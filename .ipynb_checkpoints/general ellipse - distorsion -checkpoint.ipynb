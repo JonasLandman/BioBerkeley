{
 "cells": [
  {
   "cell_type": "code",
   "execution_count": 1,
   "metadata": {
    "collapsed": true
   },
   "outputs": [],
   "source": [
    "\"\"\"PLOT CARTESIAN ELLIPSE BY DIRECT PLOT\"\"\"\n",
    "import numpy as np\n",
    "import matplotlib.pyplot as plt\n",
    "import matplotlib.patches as mpatches\n",
    "\n"
   ]
  },
  {
   "cell_type": "code",
   "execution_count": 2,
   "metadata": {
    "collapsed": true
   },
   "outputs": [],
   "source": [
    "#parameters\n",
    "\n",
    "#Artery wall - Blue\n",
    "a_wall_in= 5\n",
    "b_wall_in= 3\n",
    "thick_wall = 1.1\n",
    "\n",
    "#Lumen - Red\n",
    "x_L= -1\n",
    "a_L = 2.2\n",
    "b_L = 2\n",
    "\n",
    "#Lipid mass - Green\n",
    "x_lip = 2.3\n",
    "y_lip = -1\n",
    "a_lip = 0.2\n",
    "b_lip = 0.4\n",
    "alpha_lip = np.pi/3 #angle in rad\n",
    "\n",
    "#Calcium mass - Yellow\n",
    "x_cal = 2\n",
    "y_cal = 1.2\n",
    "a_cal = 0.2\n",
    "b_cal = 0.5\n",
    "alpha_cal = np.pi/3 #angle in rad"
   ]
  },
  {
   "cell_type": "code",
   "execution_count": 3,
   "metadata": {
    "collapsed": true
   },
   "outputs": [],
   "source": [
    "#Abscisse\n",
    "x = np.linspace(-10,10,200000)\n"
   ]
  },
  {
   "cell_type": "code",
   "execution_count": 12,
   "metadata": {
    "collapsed": true
   },
   "outputs": [],
   "source": [
    "#general - ellipse centered on x0,y0 with main axis a and small axis b, angle of rotation alpha\n",
    "def general_ellipse(x0,y0,a,b,alpha):\n",
    "    A = (b**2)*(np.sin(alpha)**2)+(a**2)*(np.cos(alpha)**2)\n",
    "    B = 2*(x-x0)*np.cos(alpha)*np.sin(alpha)*((b**2)+(a**2))\n",
    "    C = ((x-x0)**2)*((b**2)*(np.cos(alpha)**2)+(a**2)*(np.sin(alpha)**2))-(a**2)*(b**2)\n",
    "    y = (y0 + (-B+np.sqrt(B**2-4*A*C))/(2*A))\n",
    "    z = (y0 + (-B-np.sqrt(B**2-4*A*C))/(2*A))\n",
    "    return y,z\n",
    "def general_ellipse1(x0,y0,a,b,alpha):\n",
    "    A = (b**2)*(np.sin(alpha)**2)+(a**2)*(np.cos(alpha)**2)\n",
    "    B = 2*(x-x0)*np.cos(alpha)*np.sin(alpha)*((b**2)+(a**2))\n",
    "    C = ((x-x0)**2)*((b**2)*(np.cos(alpha)**2)+(a**2)*(np.sin(alpha)**2))-(a**2)*(b**2)\n",
    "    y = (y0 + (-B**2+np.sqrt(B**2-4*A*C))/(2*A))\n",
    "    z = (y0 + (-B**2-np.sqrt(B**2-4*A*C))/(2*A))\n",
    "    return y,z\n",
    "#\n",
    "# def general_ellipse1(x0,y0,a,b,alpha):\n",
    "#     A = (b**2)*(np.sin(alpha)**2)+(a**2)*(np.cos(alpha)**2)\n",
    "#     B = 2*(x-x0)*np.cos(alpha)*np.sin(alpha)*((b**2)+(a**2))\n",
    "#     C = ((x-x0)**2)*((b**2)*(np.cos(alpha)**2)+(a**2)*(np.sin(alpha)**2))-(a**2)*(b**2)\n",
    "#     y = np.sin(y0 + (-B+np.sqrt(B**2-4*A*C))/(2*A))\n",
    "#     z = np.sin(y0 + (-B-np.sqrt(B**2-4*A*C))/(2*A))\n",
    "#     return y,z\n",
    "\n",
    "# def general_ellipse1(x0,y0,a,b,alpha):\n",
    "#     A = (b**2)*(np.sin(alpha)**2)+(a**2)*(np.cos(alpha)**2)\n",
    "#     B = 2*(x-x0)*np.cos(alpha)*np.sin(alpha)*((b**2)+(a**2))\n",
    "#     C = ((x-x0)**2)*((b**2)*(np.cos(alpha)**2)+(a**2)*(np.sin(alpha)**2))-(a**2)*(b**2)\n",
    "#     y = (y0 + (-B**2+np.sqrt(B**2-4*A*C))/(2*(A**2)))\n",
    "#     z = (y0 + (-B**2-np.sqrt(B**2-4*A*C))/(2*(A**2)))\n",
    "#     return y,z\n"
   ]
  },
  {
   "cell_type": "code",
   "execution_count": 13,
   "metadata": {
    "collapsed": true
   },
   "outputs": [],
   "source": [
    "def artery_wall_in(a_wall_in,b_wall_in):\n",
    "    return general_ellipse(0,0,a_wall_in,b_wall_in,0)\n",
    "\n",
    "def artery_wall_out(a_wall_out,b_wall_out):\n",
    "    return general_ellipse(0,0,a_wall_out,b_wall_out,0)\n",
    "\n",
    "def lumen(x_L,a_L,b_L):\n",
    "    return general_ellipse(x_L,0,a_L,b_L,0)\n",
    "\n",
    "def calcium(x_cal,y_cal,a_cal,b_cal,alpha_cal):\n",
    "    return general_ellipse1(x_cal,y_cal,a_cal,b_cal,alpha_cal)\n",
    "\n",
    "def lipid(x_lip,y_lip,a_lip,b_lip,alpha_lip):\n",
    "    return general_ellipse1(x_lip,y_lip,a_lip,b_lip,alpha_lip)"
   ]
  },
  {
   "cell_type": "code",
   "execution_count": 14,
   "metadata": {
    "collapsed": true
   },
   "outputs": [],
   "source": [
    "def artery_plot(a_wall_in, b_wall_in, thick_wall, x_L, a_L, b_L, x_cal, y_cal, a_cal, b_cal, alpha_cal, x_lip, y_lip, a_lip, b_lip, alpha_lip):\n",
    "\n",
    "    plt.gcf().clear() #flush the previous plot if still loaded\n",
    "\n",
    "    y_wall_in,z_wall_in=artery_wall_in(a_wall_in,b_wall_in)\n",
    "\n",
    "    y_wall_out,z_wall_out = artery_wall_out(a_wall_in*thick_wall, b_wall_in*thick_wall)\n",
    "    plt.plot(x,y_wall_in,'b-')\n",
    "    plt.plot(x,z_wall_in,'b-')\n",
    "    plt.plot(x,y_wall_out,'b-')\n",
    "    plt.plot(x,z_wall_out,'b-')\n",
    "\n",
    "    y_lumen,z_lumen = lumen(x_L,a_L,b_L)\n",
    "    plt.plot(x,y_lumen,'r-')\n",
    "    plt.plot(x,z_lumen,'r-')\n",
    "\n",
    "    y_calcium,z_calcium = calcium(x_cal,y_cal,a_cal,b_cal,alpha_cal)\n",
    "    plt.plot(x,y_calcium,'y-')\n",
    "    plt.plot(x,z_calcium,'y-')\n",
    "\n",
    "    y_lipid,z_lipid = lipid(x_lip,y_lip,a_lip,b_lip,alpha_lip)\n",
    "    plt.plot(x,y_lipid,'g-')\n",
    "    plt.plot(x,z_lipid,'g-')\n",
    "\n",
    "    plot_limit = a_wall_in*thick_wall*1.1\n",
    "    plt.xlim([-plot_limit,plot_limit])\n",
    "    plt.ylim([-plot_limit,plot_limit])\n",
    "    plt.gca().set_aspect('equal', adjustable='box')\n",
    "    plt.show()"
   ]
  },
  {
   "cell_type": "code",
   "execution_count": 15,
   "metadata": {},
   "outputs": [
    {
     "name": "stderr",
     "output_type": "stream",
     "text": [
      "/Users/soniadaoud/anaconda/lib/python3.6/site-packages/ipykernel_launcher.py:6: RuntimeWarning: invalid value encountered in sqrt\n",
      "  \n",
      "/Users/soniadaoud/anaconda/lib/python3.6/site-packages/ipykernel_launcher.py:7: RuntimeWarning: invalid value encountered in sqrt\n",
      "  import sys\n"
     ]
    },
    {
     "ename": "TypeError",
     "evalue": "'NoneType' object is not iterable",
     "output_type": "error",
     "traceback": [
      "\u001b[0;31m---------------------------------------------------------------------------\u001b[0m",
      "\u001b[0;31mTypeError\u001b[0m                                 Traceback (most recent call last)",
      "\u001b[0;32m<ipython-input-15-e8e55d39cebc>\u001b[0m in \u001b[0;36m<module>\u001b[0;34m()\u001b[0m\n\u001b[0;32m----> 1\u001b[0;31m \u001b[0martery_plot\u001b[0m\u001b[0;34m(\u001b[0m\u001b[0ma_wall_in\u001b[0m\u001b[0;34m,\u001b[0m \u001b[0mb_wall_in\u001b[0m\u001b[0;34m,\u001b[0m \u001b[0mthick_wall\u001b[0m\u001b[0;34m,\u001b[0m\u001b[0mx_L\u001b[0m\u001b[0;34m,\u001b[0m \u001b[0ma_L\u001b[0m\u001b[0;34m,\u001b[0m \u001b[0mb_L\u001b[0m\u001b[0;34m,\u001b[0m \u001b[0mx_cal\u001b[0m\u001b[0;34m,\u001b[0m \u001b[0my_cal\u001b[0m\u001b[0;34m,\u001b[0m \u001b[0ma_cal\u001b[0m\u001b[0;34m,\u001b[0m \u001b[0mb_cal\u001b[0m\u001b[0;34m,\u001b[0m \u001b[0malpha_cal\u001b[0m\u001b[0;34m,\u001b[0m\u001b[0mx_lip\u001b[0m\u001b[0;34m,\u001b[0m \u001b[0my_lip\u001b[0m\u001b[0;34m,\u001b[0m \u001b[0ma_lip\u001b[0m\u001b[0;34m,\u001b[0m \u001b[0mb_lip\u001b[0m\u001b[0;34m,\u001b[0m \u001b[0malpha_lip\u001b[0m\u001b[0;34m)\u001b[0m\u001b[0;34m\u001b[0m\u001b[0m\n\u001b[0m",
      "\u001b[0;32m<ipython-input-14-41c21994595e>\u001b[0m in \u001b[0;36martery_plot\u001b[0;34m(a_wall_in, b_wall_in, thick_wall, x_L, a_L, b_L, x_cal, y_cal, a_cal, b_cal, alpha_cal, x_lip, y_lip, a_lip, b_lip, alpha_lip)\u001b[0m\n\u001b[1;32m      3\u001b[0m     \u001b[0mplt\u001b[0m\u001b[0;34m.\u001b[0m\u001b[0mgcf\u001b[0m\u001b[0;34m(\u001b[0m\u001b[0;34m)\u001b[0m\u001b[0;34m.\u001b[0m\u001b[0mclear\u001b[0m\u001b[0;34m(\u001b[0m\u001b[0;34m)\u001b[0m \u001b[0;31m#flush the previous plot if still loaded\u001b[0m\u001b[0;34m\u001b[0m\u001b[0m\n\u001b[1;32m      4\u001b[0m \u001b[0;34m\u001b[0m\u001b[0m\n\u001b[0;32m----> 5\u001b[0;31m     \u001b[0my_wall_in\u001b[0m\u001b[0;34m,\u001b[0m\u001b[0mz_wall_in\u001b[0m\u001b[0;34m=\u001b[0m\u001b[0martery_wall_in\u001b[0m\u001b[0;34m(\u001b[0m\u001b[0ma_wall_in\u001b[0m\u001b[0;34m,\u001b[0m\u001b[0mb_wall_in\u001b[0m\u001b[0;34m)\u001b[0m\u001b[0;34m\u001b[0m\u001b[0m\n\u001b[0m\u001b[1;32m      6\u001b[0m \u001b[0;34m\u001b[0m\u001b[0m\n\u001b[1;32m      7\u001b[0m     \u001b[0my_wall_out\u001b[0m\u001b[0;34m,\u001b[0m\u001b[0mz_wall_out\u001b[0m \u001b[0;34m=\u001b[0m \u001b[0martery_wall_out\u001b[0m\u001b[0;34m(\u001b[0m\u001b[0ma_wall_in\u001b[0m\u001b[0;34m*\u001b[0m\u001b[0mthick_wall\u001b[0m\u001b[0;34m,\u001b[0m \u001b[0mb_wall_in\u001b[0m\u001b[0;34m*\u001b[0m\u001b[0mthick_wall\u001b[0m\u001b[0;34m)\u001b[0m\u001b[0;34m\u001b[0m\u001b[0m\n",
      "\u001b[0;31mTypeError\u001b[0m: 'NoneType' object is not iterable"
     ]
    }
   ],
   "source": [
    "artery_plot(a_wall_in, b_wall_in, thick_wall,x_L, a_L, b_L, x_cal, y_cal, a_cal, b_cal, alpha_cal,x_lip, y_lip, a_lip, b_lip, alpha_lip) "
   ]
  },
  {
   "cell_type": "code",
   "execution_count": null,
   "metadata": {
    "collapsed": true
   },
   "outputs": [],
   "source": []
  },
  {
   "cell_type": "code",
   "execution_count": null,
   "metadata": {
    "collapsed": true
   },
   "outputs": [],
   "source": []
  }
 ],
 "metadata": {
  "kernelspec": {
   "display_name": "Python 3",
   "language": "python",
   "name": "python3"
  },
  "language_info": {
   "codemirror_mode": {
    "name": "ipython",
    "version": 3
   },
   "file_extension": ".py",
   "mimetype": "text/x-python",
   "name": "python",
   "nbconvert_exporter": "python",
   "pygments_lexer": "ipython3",
   "version": "3.6.1"
  }
 },
 "nbformat": 4,
 "nbformat_minor": 2
}
