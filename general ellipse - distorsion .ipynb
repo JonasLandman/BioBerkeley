{
 "cells": [
  {
   "cell_type": "code",
   "execution_count": 20,
   "metadata": {
    "collapsed": true
   },
   "outputs": [],
   "source": [
    "\"\"\"PLOT CARTESIAN ELLIPSE BY DIRECT PLOT\"\"\"\n",
    "import numpy as np\n",
    "import matplotlib.pyplot as plt\n",
    "import matplotlib.patches as mpatches\n",
    "\n"
   ]
  },
  {
   "cell_type": "code",
   "execution_count": 21,
   "metadata": {
    "collapsed": true
   },
   "outputs": [],
   "source": [
    "#parameters\n",
    "\n",
    "#Artery wall - Blue\n",
    "a_wall_in= 5\n",
    "b_wall_in= 3\n",
    "thick_wall = 1.1\n",
    "\n",
    "#Lumen - Red\n",
    "x_L= -1\n",
    "a_L = 2.2\n",
    "b_L = 2\n",
    "\n",
    "#Lipid mass - Green\n",
    "x_lip = 2.3\n",
    "y_lip = -1\n",
    "a_lip = 0.2\n",
    "b_lip = 0.4\n",
    "alpha_lip = np.pi/3 #angle in rad\n",
    "\n",
    "#Calcium mass - Yellow\n",
    "x_cal = 2\n",
    "y_cal = 1.2\n",
    "a_cal = 0.2\n",
    "b_cal = 0.5\n",
    "alpha_cal = np.pi/3 #angle in rad"
   ]
  },
  {
   "cell_type": "code",
   "execution_count": 22,
   "metadata": {
    "collapsed": true
   },
   "outputs": [],
   "source": [
    "#Abscisse\n",
    "x = np.linspace(-10,10,200000)\n"
   ]
  },
  {
   "cell_type": "code",
   "execution_count": 23,
   "metadata": {
    "collapsed": true
   },
   "outputs": [],
   "source": [
    "#general - ellipse centered on x0,y0 with main axis a and small axis b, angle of rotation alpha\n",
    "def general_ellipse(x0,y0,a,b,alpha):\n",
    "    A = (b**2)*(np.sin(alpha)**2)+(a**2)*(np.cos(alpha)**2)\n",
    "    B = 2*(x-x0)*np.cos(alpha)*np.sin(alpha)*((b**2)+(a**2))\n",
    "    C = ((x-x0)**2)*((b**2)*(np.cos(alpha)**2)+(a**2)*(np.sin(alpha)**2))-(a**2)*(b**2)\n",
    "    y = (y0 + (-B+np.sqrt(B**2-4*A*C))/(2*A))\n",
    "    z = (y0 + (-B-np.sqrt(B**2-4*A*C))/(2*A))\n",
    "    return y,z\n",
    "def general_ellipse1(x0,y0,a,b,alpha):\n",
    "    A = (b**2)*(np.sin(alpha)**2)+(a**2)*(np.cos(alpha)**2)\n",
    "    B = 2*(x-x0)*np.cos(alpha)*np.sin(alpha)*((b**2)+(a**2))\n",
    "    C = ((x-x0)**2)*((b**2)*(np.cos(alpha)**2)+(a**2)*(np.sin(alpha)**2))-(a**2)*(b**2)\n",
    "    y = (y0 + (-B**2+np.sqrt(B**2-4*A*C))/(2*A))\n",
    "    z = (y0 + (-B**2-np.sqrt(B**2-4*A*C))/(2*A))\n",
    "    return y,z\n",
    "#\n",
    "# def general_ellipse1(x0,y0,a,b,alpha):\n",
    "#     A = (b**2)*(np.sin(alpha)**2)+(a**2)*(np.cos(alpha)**2)\n",
    "#     B = 2*(x-x0)*np.cos(alpha)*np.sin(alpha)*((b**2)+(a**2))\n",
    "#     C = ((x-x0)**2)*((b**2)*(np.cos(alpha)**2)+(a**2)*(np.sin(alpha)**2))-(a**2)*(b**2)\n",
    "#     y = np.sin(y0 + (-B+np.sqrt(B**2-4*A*C))/(2*A))\n",
    "#     z = np.sin(y0 + (-B-np.sqrt(B**2-4*A*C))/(2*A))\n",
    "#     return y,z\n",
    "\n",
    "# def general_ellipse1(x0,y0,a,b,alpha):\n",
    "#     A = (b**2)*(np.sin(alpha)**2)+(a**2)*(np.cos(alpha)**2)\n",
    "#     B = 2*(x-x0)*np.cos(alpha)*np.sin(alpha)*((b**2)+(a**2))\n",
    "#     C = ((x-x0)**2)*((b**2)*(np.cos(alpha)**2)+(a**2)*(np.sin(alpha)**2))-(a**2)*(b**2)\n",
    "#     y = (y0 + (-B**2+np.sqrt(B**2-4*A*C))/(2*(A**2)))\n",
    "#     z = (y0 + (-B**2-np.sqrt(B**2-4*A*C))/(2*(A**2)))\n",
    "#     return y,z\n"
   ]
  },
  {
   "cell_type": "code",
   "execution_count": 24,
   "metadata": {
    "collapsed": true
   },
   "outputs": [],
   "source": [
    "def artery_wall_in(a_wall_in,b_wall_in):\n",
    "    return general_ellipse(0,0,a_wall_in,b_wall_in,0)\n",
    "\n",
    "def artery_wall_out(a_wall_out,b_wall_out):\n",
    "    return general_ellipse(0,0,a_wall_out,b_wall_out,0)\n",
    "\n",
    "def lumen(x_L,a_L,b_L):\n",
    "    return general_ellipse(x_L,0,a_L,b_L,0)\n",
    "\n",
    "def calcium(x_cal,y_cal,a_cal,b_cal,alpha_cal):\n",
    "    return general_ellipse1(x_cal,y_cal,a_cal,b_cal,alpha_cal)\n",
    "\n",
    "def lipid(x_lip,y_lip,a_lip,b_lip,alpha_lip):\n",
    "    return general_ellipse1(x_lip,y_lip,a_lip,b_lip,alpha_lip)"
   ]
  },
  {
   "cell_type": "code",
   "execution_count": 25,
   "metadata": {
    "collapsed": true
   },
   "outputs": [],
   "source": [
    "def artery_plot(a_wall_in, b_wall_in, thick_wall, x_L, a_L, b_L, x_cal, y_cal, a_cal, b_cal, alpha_cal, x_lip, y_lip, a_lip, b_lip, alpha_lip):\n",
    "\n",
    "    plt.gcf().clear() #flush the previous plot if still loaded\n",
    "\n",
    "    y_wall_in,z_wall_in=artery_wall_in(a_wall_in,b_wall_in)\n",
    "\n",
    "    y_wall_out,z_wall_out = artery_wall_out(a_wall_in*thick_wall, b_wall_in*thick_wall)\n",
    "    plt.plot(x,y_wall_in,'b-')\n",
    "    plt.plot(x,z_wall_in,'b-')\n",
    "    plt.plot(x,y_wall_out,'b-')\n",
    "    plt.plot(x,z_wall_out,'b-')\n",
    "\n",
    "    y_lumen,z_lumen = lumen(x_L,a_L,b_L)\n",
    "    plt.plot(x,y_lumen,'r-')\n",
    "    plt.plot(x,z_lumen,'r-')\n",
    "\n",
    "    y_calcium,z_calcium = calcium(x_cal,y_cal,a_cal,b_cal,alpha_cal)\n",
    "    plt.plot(x,y_calcium,'y-')\n",
    "    plt.plot(x,z_calcium,'y-')\n",
    "\n",
    "    y_lipid,z_lipid = lipid(x_lip,y_lip,a_lip,b_lip,alpha_lip)\n",
    "    plt.plot(x,y_lipid,'g-')\n",
    "    plt.plot(x,z_lipid,'g-')\n",
    "\n",
    "    plot_limit = a_wall_in*thick_wall*1.1\n",
    "    plt.xlim([-plot_limit,plot_limit])\n",
    "    plt.ylim([-plot_limit,plot_limit])\n",
    "    plt.gca().set_aspect('equal', adjustable='box')\n",
    "    plt.show()"
   ]
  },
  {
   "cell_type": "code",
   "execution_count": 26,
   "metadata": {},
   "outputs": [
    {
     "name": "stderr",
     "output_type": "stream",
     "text": [
      "/Users/soniadaoud/anaconda/lib/python3.6/site-packages/ipykernel_launcher.py:6: RuntimeWarning: invalid value encountered in sqrt\n",
      "  \n",
      "/Users/soniadaoud/anaconda/lib/python3.6/site-packages/ipykernel_launcher.py:7: RuntimeWarning: invalid value encountered in sqrt\n",
      "  import sys\n",
      "/Users/soniadaoud/anaconda/lib/python3.6/site-packages/ipykernel_launcher.py:13: RuntimeWarning: invalid value encountered in sqrt\n",
      "  del sys.path[0]\n",
      "/Users/soniadaoud/anaconda/lib/python3.6/site-packages/ipykernel_launcher.py:14: RuntimeWarning: invalid value encountered in sqrt\n",
      "  \n"
     ]
    },
    {
     "data": {
      "image/png": "[encoded data removed]",
      "text/plain": [
       "<matplotlib.figure.Figure at 0x11c1c56a0>"
      ]
     },
     "metadata": {},
     "output_type": "display_data"
    }
   ],
   "source": [
    "artery_plot(a_wall_in, b_wall_in, thick_wall,x_L, a_L, b_L, x_cal, y_cal, a_cal, b_cal, alpha_cal,x_lip, y_lip, a_lip, b_lip, alpha_lip) "
   ]
  },
  {
   "cell_type": "code",
   "execution_count": null,
   "metadata": {
    "collapsed": true
   },
   "outputs": [],
   "source": []
  },
  {
   "cell_type": "code",
   "execution_count": null,
   "metadata": {
    "collapsed": true
   },
   "outputs": [],
   "source": []
  }
 ],
 "metadata": {
  "kernelspec": {
   "display_name": "Python 3",
   "language": "python",
   "name": "python3"
  },
  "language_info": {
   "codemirror_mode": {
    "name": "ipython",
    "version": 3
   },
   "file_extension": ".py",
   "mimetype": "text/x-python",
   "name": "python",
   "nbconvert_exporter": "python",
   "pygments_lexer": "ipython3",
   "version": "3.6.1"
  }
 },
 "nbformat": 4,
 "nbformat_minor": 2
}
